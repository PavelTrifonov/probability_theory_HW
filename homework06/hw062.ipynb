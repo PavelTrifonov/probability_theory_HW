{
 "cells": [
  {
   "cell_type": "markdown",
   "metadata": {},
   "source": [
    "В результате 10 независимых измерений некоторой величины X, выполненных с одинаковой точностью, получены опытные данные:\n",
    "6.9, 6.1, 6.2, 6.8, 7.5, 6.3, 6.4, 6.9, 6.7, 6.1\n",
    "\n",
    "Предполагая, что результаты измерений подчинены нормальному закону распределения вероятностей, оценить истинное значение величины X при помощи доверительного интервала, покрывающего это значение с доверительной вероятностью 0,95."
   ]
  },
  {
   "cell_type": "code",
   "execution_count": 1,
   "metadata": {},
   "outputs": [
    {
     "name": "stdout",
     "output_type": "stream",
     "text": [
      "истинное значение величины X лежит в  доверительном интервале (6.268111756971461 , 6.911888243028539)\n"
     ]
    }
   ],
   "source": [
    "n=10\n",
    "arr=[6.9, 6.1, 6.2, 6.8, 7.5, 6.3, 6.4, 6.9, 6.7, 6.1]\n",
    "M=round(sum(arr)/n,2)\n",
    "p=0.95\n",
    "a=1-p\n",
    "arr=[(i- M)**2 for i in arr]\n",
    "std=round(((sum(arr)/(n-1))**0.5),2)\n",
    "Ta=2.262\n",
    "X1=M-Ta*(std/n**0.5)\n",
    "X2=M+Ta*(std/n**0.5)\n",
    "print(f\"истинное значение величины X лежит в  доверительном интервале ({X1} , {X2})\")"
   ]
  }
 ],
 "metadata": {
  "kernelspec": {
   "display_name": "Python 3.11.0 64-bit",
   "language": "python",
   "name": "python3"
  },
  "language_info": {
   "codemirror_mode": {
    "name": "ipython",
    "version": 3
   },
   "file_extension": ".py",
   "mimetype": "text/x-python",
   "name": "python",
   "nbconvert_exporter": "python",
   "pygments_lexer": "ipython3",
   "version": "3.11.0"
  },
  "orig_nbformat": 4,
  "vscode": {
   "interpreter": {
    "hash": "702ffae81ee54834fab35e2ca8f0d783c2aeade926d5cbfa2c657f44bff6ce1c"
   }
  }
 },
 "nbformat": 4,
 "nbformat_minor": 2
}
