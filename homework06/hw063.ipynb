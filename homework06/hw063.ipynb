{
 "cells": [
  {
   "cell_type": "markdown",
   "metadata": {},
   "source": [
    "Рост дочерей 175, 167, 154, 174, 178, 148, 160, 167, 169, 170\n",
    "Рост матерей  178, 165, 165, 173, 168, 155, 160, 164, 178, 175\n",
    "Используя эти данные построить 95% доверительный интервал для разности среднего роста родителей и детей."
   ]
  },
  {
   "cell_type": "code",
   "execution_count": 9,
   "metadata": {},
   "outputs": [
    {
     "name": "stdout",
     "output_type": "stream",
     "text": [
      "Доверительный интервал для разности среднего роста родителей и детей: (-6.269, 10.069)\n"
     ]
    }
   ],
   "source": [
    "arr1=[175, 167, 154, 174, 178, 148, 160, 167, 169, 170]\n",
    "arr2=[178, 165, 165, 173, 168, 155, 160, 164, 178, 175]\n",
    "M1=sum(arr1)/len(arr1)\n",
    "M2=sum(arr2)/len(arr2)\n",
    "n1=len(arr1)\n",
    "n2=len(arr2)\n",
    "arr1=[(i- M1)**2 for i in arr1]\n",
    "arr2=[(i- M2)**2 for i in arr2]\n",
    "A=M2-M1\n",
    "D1=sum(arr1)/(n1-1)\n",
    "D2=sum(arr2)/(n2-1)\n",
    "\n",
    "Sa=(D1/n1+D2/n2)**0.5\n",
    "Ta=2.101\n",
    "X1=round(A-Ta*Sa,3)\n",
    "X2=round(A+Ta*Sa,3)\n",
    "print(f\"Доверительный интервал для разности среднего роста родителей и детей: ({X1}, {X2})\")"
   ]
  }
 ],
 "metadata": {
  "kernelspec": {
   "display_name": "Python 3.11.0 64-bit",
   "language": "python",
   "name": "python3"
  },
  "language_info": {
   "codemirror_mode": {
    "name": "ipython",
    "version": 3
   },
   "file_extension": ".py",
   "mimetype": "text/x-python",
   "name": "python",
   "nbconvert_exporter": "python",
   "pygments_lexer": "ipython3",
   "version": "3.11.0"
  },
  "orig_nbformat": 4,
  "vscode": {
   "interpreter": {
    "hash": "702ffae81ee54834fab35e2ca8f0d783c2aeade926d5cbfa2c657f44bff6ce1c"
   }
  }
 },
 "nbformat": 4,
 "nbformat_minor": 2
}
