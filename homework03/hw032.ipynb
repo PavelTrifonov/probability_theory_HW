{
 "cells": [
  {
   "cell_type": "markdown",
   "metadata": {},
   "source": [
    "**Задача2**\n",
    "\n",
    "    В первом ящике находится 8 мячей, из которых 5 - белые. Во втором ящике - 12 мячей, из которых 5 белых. Из первого ящика вытаскивают случайным образом два мяча, из второго - 4. Какова вероятность того, что 3 мяча белые?"
   ]
  },
  {
   "cell_type": "code",
   "execution_count": 16,
   "metadata": {},
   "outputs": [],
   "source": [
    "import math\n",
    "def fun_Comb(n,k) : # где n - множество элементов(шаров), k - неупорядоченный набор элементов(белых шаров) множества n \n",
    "    return int(math.factorial(n)/(math.factorial(k)*math.factorial(n-k)))"
   ]
  },
  {
   "cell_type": "code",
   "execution_count": 17,
   "metadata": {},
   "outputs": [],
   "source": [
    "p_1=fun_Comb(5,2)/fun_Comb(8,2)# вероятность вытащить 2 белых шара из первого ящика\n",
    "p_2=fun_Comb(3,2)/fun_Comb(8,2)# вероятность вытащить 2 черных шара из первого ящика\n",
    "p_3=fun_Comb(3,1)*fun_Comb(5,1)/fun_Comb(8,2)# вероятность вытащить 1 черный и 1 белый шары из первого ящика\n",
    "\n",
    "p_4=fun_Comb(5,3)*fun_Comb(7,1)/fun_Comb(12,4)# вероятность вытащить 3 белых шар и 1 черный из вторго ящика\n",
    "p_5=fun_Comb(5,1)*fun_Comb(7,3)/fun_Comb(12,4)# вероятность вытащить 1 белый шар и 3 черных из вторго ящика\n",
    "p_6=fun_Comb(5,2)*fun_Comb(7,2)/fun_Comb(12,4)# вероятность вытащить 2 белых шара и 2 черных из вторго ящика"
   ]
  },
  {
   "cell_type": "code",
   "execution_count": 18,
   "metadata": {},
   "outputs": [],
   "source": [
    "P1=p_1*p_5# вероятность при 2  белых из первой и 1 из второй корзины\n",
    "P2=p_2*p_4# вероятность при 2  черных  из первой и 3 белых из второй корзины\n",
    "P3=p_3*p_6# вероятность при 1  белом  из первой и 2 белых из второй корзины"
   ]
  },
  {
   "cell_type": "code",
   "execution_count": 19,
   "metadata": {},
   "outputs": [],
   "source": [
    "P=P1+P2+P3# Общая вероятность"
   ]
  },
  {
   "cell_type": "code",
   "execution_count": 20,
   "metadata": {},
   "outputs": [
    {
     "name": "stdout",
     "output_type": "stream",
     "text": [
      "0.3686868686868687\n"
     ]
    }
   ],
   "source": [
    "print(P)"
   ]
  }
 ],
 "metadata": {
  "kernelspec": {
   "display_name": "Python 3.11.0 64-bit",
   "language": "python",
   "name": "python3"
  },
  "language_info": {
   "codemirror_mode": {
    "name": "ipython",
    "version": 3
   },
   "file_extension": ".py",
   "mimetype": "text/x-python",
   "name": "python",
   "nbconvert_exporter": "python",
   "pygments_lexer": "ipython3",
   "version": "3.11.0"
  },
  "orig_nbformat": 4,
  "vscode": {
   "interpreter": {
    "hash": "702ffae81ee54834fab35e2ca8f0d783c2aeade926d5cbfa2c657f44bff6ce1c"
   }
  }
 },
 "nbformat": 4,
 "nbformat_minor": 2
}
