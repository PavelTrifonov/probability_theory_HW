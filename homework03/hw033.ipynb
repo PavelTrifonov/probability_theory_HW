{
 "cells": [
  {
   "cell_type": "markdown",
   "metadata": {},
   "source": [
    "**Задача3**\n",
    "\n",
    "    На соревновании по биатлону один из трех спортсменов стреляет и попадает в мишень. Вероятность попадания для первого спортсмена равна 0.9, для второго — 0.8, для третьего — 0.6. Найти вероятность того, что выстрел произведен: a). первым спортсменом б). вторым спортсменом в). третьим спортсменом."
   ]
  },
  {
   "cell_type": "code",
   "execution_count": 16,
   "metadata": {},
   "outputs": [
    {
     "name": "stdout",
     "output_type": "stream",
     "text": [
      "0.7666666666666666\n",
      "0.391304347826087\n",
      "0.3478260869565218\n",
      "0.2608695652173913\n",
      "1.0\n"
     ]
    }
   ],
   "source": [
    "p_M=0.9*1/3+0.8*1/3+0.6*1/3 # вероятность наступления события(выстрел с попаданием)\n",
    "p_S1=0.9*1/3/p_M  #вероятность того, что выстрел произведен первым спортсменом \n",
    "p_S2=0.8*1/3/p_M  #вероятность того, что выстрел произведен вторым спортсменом \n",
    "p_S3=0.6*1/3/p_M  #вероятность того, что выстрел произведен третьим спортсменом \n",
    "print(p_M)\n",
    "print(p_S1)\n",
    "print(p_S2)\n",
    "print(p_S3)\n",
    "s=p_S1+p_S2+p_S3 # полная вероятность события\n",
    "print(s)"
   ]
  }
 ],
 "metadata": {
  "kernelspec": {
   "display_name": "Python 3.11.0 64-bit",
   "language": "python",
   "name": "python3"
  },
  "language_info": {
   "codemirror_mode": {
    "name": "ipython",
    "version": 3
   },
   "file_extension": ".py",
   "mimetype": "text/x-python",
   "name": "python",
   "nbconvert_exporter": "python",
   "pygments_lexer": "ipython3",
   "version": "3.11.0"
  },
  "orig_nbformat": 4,
  "vscode": {
   "interpreter": {
    "hash": "702ffae81ee54834fab35e2ca8f0d783c2aeade926d5cbfa2c657f44bff6ce1c"
   }
  }
 },
 "nbformat": 4,
 "nbformat_minor": 2
}
