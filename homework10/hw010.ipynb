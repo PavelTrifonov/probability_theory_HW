{
 "cells": [
  {
   "cell_type": "markdown",
   "metadata": {},
   "source": [
    "Провести дисперсионный анализ для определения того, есть ли различия среднего роста среди взрослых футболистов, хоккеистов и штангистов.\n",
    "Даны значения роста в трех группах случайно выбранных спортсменов:\n",
    "Футболисты: 173, 175, 180, 178, 177, 185, 183, 182.\n",
    "Хоккеисты: 177, 179, 180, 188, 177, 172, 171, 184, 180.\n",
    "Штангисты: 172, 173, 169, 177, 166, 180, 178, 177, 172, 166, 170."
   ]
  },
  {
   "cell_type": "code",
   "execution_count": 5,
   "metadata": {},
   "outputs": [
    {
     "data": {
      "text/plain": [
       "0.010482206918698693"
      ]
     },
     "execution_count": 5,
     "metadata": {},
     "output_type": "execute_result"
    }
   ],
   "source": [
    "from scipy import stats\n",
    "\n",
    "f=[173, 175, 180, 178, 177, 185, 183, 182]\n",
    "h=[177, 179, 180, 188, 177, 172, 171, 184, 180]\n",
    "t=[172, 173, 169, 177, 166, 180, 178, 177, 172, 166, 170]\n",
    "\n",
    "a=0.05\n",
    "p=stats.f_oneway(f, h, t)[1]\n",
    "p"
   ]
  },
  {
   "cell_type": "markdown",
   "metadata": {},
   "source": [
    "p < a --> из этого следует, что гипотеза H0 (средний рост во всех группах одинаковый) отвергается"
   ]
  }
 ],
 "metadata": {
  "kernelspec": {
   "display_name": "Python 3.11.0 64-bit",
   "language": "python",
   "name": "python3"
  },
  "language_info": {
   "codemirror_mode": {
    "name": "ipython",
    "version": 3
   },
   "file_extension": ".py",
   "mimetype": "text/x-python",
   "name": "python",
   "nbconvert_exporter": "python",
   "pygments_lexer": "ipython3",
   "version": "3.11.0"
  },
  "orig_nbformat": 4,
  "vscode": {
   "interpreter": {
    "hash": "702ffae81ee54834fab35e2ca8f0d783c2aeade926d5cbfa2c657f44bff6ce1c"
   }
  }
 },
 "nbformat": 4,
 "nbformat_minor": 2
}
