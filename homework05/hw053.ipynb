{
 "cells": [
  {
   "cell_type": "markdown",
   "metadata": {},
   "source": [
    "Задача 3. Проведите тест гипотезы. Продавец утверждает, что средний вес пачки печенья\n",
    "составляет 200 г.\n",
    "Из партии извлечена выборка из 10 пачек. Вес каждой пачки составляет:\n",
    "202, 203, 199, 197, 195, 201, 200, 204, 194, 190.\n",
    "Известно, что их веса распределены нормально.\n",
    "Верно ли утверждение продавца, если учитывать, что доверительная вероятность равна\n",
    "99%? (Провести двусторонний тест.)"
   ]
  },
  {
   "cell_type": "code",
   "execution_count": 18,
   "metadata": {},
   "outputs": [
    {
     "name": "stdout",
     "output_type": "stream",
     "text": [
      "средний вес пачки из выборки Х = 198.5\n"
     ]
    }
   ],
   "source": [
    "a=1-0.99\n",
    "m=200\n",
    "n=10\n",
    "arr=[202, 203, 199, 197, 195, 201, 200, 204, 194, 190]\n",
    "X=sum(arr)/len(arr)\n",
    "print(f\"средний вес пачки из выборки Х = {X}\")"
   ]
  },
  {
   "cell_type": "code",
   "execution_count": 17,
   "metadata": {},
   "outputs": [
    {
     "name": "stdout",
     "output_type": "stream",
     "text": [
      "4.453463071962462\n",
      "значение наблюдаемого Z = -1.0651074037450896\n"
     ]
    }
   ],
   "source": [
    "arr2=[(i- X)**2 for i in arr]\n",
    "D=sum(arr2)/(n-1)\n",
    "Zt=-2.58 # от табличного значения при а=а/2(0,005)\n",
    "Zn=(X-m)/((D/n)**0.5)\n",
    "print(f\"значение наблюдаемого Zn = {Zn}\")"
   ]
  },
  {
   "cell_type": "markdown",
   "metadata": {},
   "source": [
    "Т.к. значение наблюдаемого Z лежит правее Z табличного(>), то мы не отвергаем первую гипотезу(Но), что средний вес равен 200гр"
   ]
  }
 ],
 "metadata": {
  "kernelspec": {
   "display_name": "Python 3.11.0 64-bit",
   "language": "python",
   "name": "python3"
  },
  "language_info": {
   "codemirror_mode": {
    "name": "ipython",
    "version": 3
   },
   "file_extension": ".py",
   "mimetype": "text/x-python",
   "name": "python",
   "nbconvert_exporter": "python",
   "pygments_lexer": "ipython3",
   "version": "3.11.0"
  },
  "orig_nbformat": 4,
  "vscode": {
   "interpreter": {
    "hash": "702ffae81ee54834fab35e2ca8f0d783c2aeade926d5cbfa2c657f44bff6ce1c"
   }
  }
 },
 "nbformat": 4,
 "nbformat_minor": 2
}
