{
 "cells": [
  {
   "cell_type": "markdown",
   "metadata": {},
   "source": [
    "Задача 2. Исследовалось влияние препарата на уровень давления пациентов. Сначала\n",
    "измерялось давление до приема препарата, потом через 10 минут и через 30 минут. Есть\n",
    "ли статистически значимые различия между измерениями давления? В выборках не соблюдается условие нормальности.\n",
    "1е измерение до приема препарата: 150, 160, 165, 145, 155\n",
    "2е измерение через 10 минут: 140, 155, 150, 130, 135\n",
    "3е измерение через 30 минут: 130, 130, 120, 130, 125"
   ]
  },
  {
   "cell_type": "code",
   "execution_count": 1,
   "metadata": {},
   "outputs": [
    {
     "data": {
      "text/plain": [
       "FriedmanchisquareResult(statistic=9.578947368421062, pvalue=0.00831683351100441)"
      ]
     },
     "execution_count": 1,
     "metadata": {},
     "output_type": "execute_result"
    }
   ],
   "source": [
    "import numpy as np \n",
    "import scipy.stats as stats\n",
    "x1=[150, 160, 165, 145, 155]\n",
    "x2=[140, 155, 150, 130, 135]\n",
    "x3=[130, 130, 120, 130, 125]\n",
    "a=0.05\n",
    "stats.friedmanchisquare(x1,x2,x3)"
   ]
  },
  {
   "cell_type": "markdown",
   "metadata": {},
   "source": [
    "pvalue=0.008 < a=0.05 ,  это означает, что статистических различий между измерениями давления имеются (гипотеза Но отвергается), препарат оказал влияние."
   ]
  }
 ],
 "metadata": {
  "kernelspec": {
   "display_name": "Python 3.11.0 64-bit",
   "language": "python",
   "name": "python3"
  },
  "language_info": {
   "codemirror_mode": {
    "name": "ipython",
    "version": 3
   },
   "file_extension": ".py",
   "mimetype": "text/x-python",
   "name": "python",
   "nbconvert_exporter": "python",
   "pygments_lexer": "ipython3",
   "version": "3.11.0"
  },
  "orig_nbformat": 4,
  "vscode": {
   "interpreter": {
    "hash": "702ffae81ee54834fab35e2ca8f0d783c2aeade926d5cbfa2c657f44bff6ce1c"
   }
  }
 },
 "nbformat": 4,
 "nbformat_minor": 2
}
