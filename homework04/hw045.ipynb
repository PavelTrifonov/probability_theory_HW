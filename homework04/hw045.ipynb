{
 "cells": [
  {
   "cell_type": "markdown",
   "metadata": {},
   "source": [
    "Задача 5. На сколько сигм (средних квадратичных отклонений) отклоняется рост человека,\n",
    "равный 190 см, от\n",
    "математического ожидания роста в популяции, в которой M(X) = 178 см и D(X) = 25 кв.см?"
   ]
  },
  {
   "cell_type": "code",
   "execution_count": 1,
   "metadata": {},
   "outputs": [
    {
     "name": "stdout",
     "output_type": "stream",
     "text": [
      "Рост человека отклонится на - 2.4 сигм\n"
     ]
    }
   ],
   "source": [
    "D=25\n",
    "std=D**0.5\n",
    "N=(190-178)/std \n",
    "print(f\"Рост человека отклонится на - {N} сигм\")"
   ]
  }
 ],
 "metadata": {
  "kernelspec": {
   "display_name": "Python 3.11.0 64-bit",
   "language": "python",
   "name": "python3"
  },
  "language_info": {
   "codemirror_mode": {
    "name": "ipython",
    "version": 3
   },
   "file_extension": ".py",
   "mimetype": "text/x-python",
   "name": "python",
   "nbconvert_exporter": "python",
   "pygments_lexer": "ipython3",
   "version": "3.11.0"
  },
  "orig_nbformat": 4,
  "vscode": {
   "interpreter": {
    "hash": "702ffae81ee54834fab35e2ca8f0d783c2aeade926d5cbfa2c657f44bff6ce1c"
   }
  }
 },
 "nbformat": 4,
 "nbformat_minor": 2
}
