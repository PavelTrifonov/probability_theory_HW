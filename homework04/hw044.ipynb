{
 "cells": [
  {
   "cell_type": "markdown",
   "metadata": {},
   "source": [
    "Задача 4. Рост взрослого населения города X имеет нормальное распределение, причем, средний рост равен 174 см, а среднее квадратическое отклонение равно 8 см. посчитайте, какова вероятность того, что случайным образом выбранный взрослый человек имеет рост:\n",
    "1. больше 182 см?\n",
    "2. больше 190 см?\n",
    "3. от 166 см до 190 см?\n",
    "4. от 166 см до 182 см?\n",
    "5. от 158 см до 190 см?\n",
    "6. не выше 150 см или не ниже 190 см?\n",
    "7. не выше 150 см или не ниже 198 см?\n",
    "8. ниже 166 см?\n",
    "\n",
    "Задачу можно решить двумя способами: без использования сторонних библиотек (numpy, scipy, pandas и пр.), а затем проверить себя с помощью встроенных функций"
   ]
  },
  {
   "cell_type": "code",
   "execution_count": 33,
   "metadata": {},
   "outputs": [
    {
     "name": "stdout",
     "output_type": "stream",
     "text": [
      "1.0\n"
     ]
    }
   ],
   "source": [
    "M=174\n",
    "std=8\n",
    "\n",
    "def Z(x,m):\n",
    "    z=(x-m)/std\n",
    "    return z\n",
    "\n",
    "\n",
    "X_1=182    \n",
    "print(Z(X_1,M))\n"
   ]
  },
  {
   "cell_type": "code",
   "execution_count": 34,
   "metadata": {},
   "outputs": [
    {
     "name": "stdout",
     "output_type": "stream",
     "text": [
      " z = 1.0\n"
     ]
    }
   ],
   "source": [
    "#1. больше 182 см?\n",
    "X_1=182    \n",
    "print(f\" z = {Z(X_1,M)}\")"
   ]
  },
  {
   "cell_type": "code",
   "execution_count": 35,
   "metadata": {},
   "outputs": [
    {
     "name": "stdout",
     "output_type": "stream",
     "text": [
      "вероятность того, что случайным образом выбранный взрослый \n",
      " человек имеет рост больше 182 см:   0.15866000000000002\n"
     ]
    }
   ],
   "source": [
    "#вероятность по таблице при z=1 -> 0.84134\n",
    "P=1-0.84134\n",
    "print(f\"вероятность того, что случайным образом выбранный взрослый \\n человек имеет рост больше 182 см:   {P}\")"
   ]
  },
  {
   "cell_type": "code",
   "execution_count": 36,
   "metadata": {},
   "outputs": [
    {
     "name": "stdout",
     "output_type": "stream",
     "text": [
      " z = 2.0\n"
     ]
    }
   ],
   "source": [
    "#2. больше 190 см?\n",
    "X_1=190    \n",
    "print(f\" z = {Z(X_1,M)}\")\n"
   ]
  },
  {
   "cell_type": "code",
   "execution_count": 37,
   "metadata": {},
   "outputs": [
    {
     "name": "stdout",
     "output_type": "stream",
     "text": [
      "вероятность того, что случайным образом выбранный взрослый \n",
      " человек имеет рост больше 190 см:   0.022750000000000048\n"
     ]
    }
   ],
   "source": [
    "#вероятность по таблице при z=2 -> 0.97725\n",
    "P=1-0.97725\n",
    "print(f\"вероятность того, что случайным образом выбранный взрослый \\n человек имеет рост больше 190 см:   {P}\")"
   ]
  },
  {
   "cell_type": "code",
   "execution_count": 38,
   "metadata": {},
   "outputs": [
    {
     "name": "stdout",
     "output_type": "stream",
     "text": [
      " z1 = -1.0\n",
      " z2 = 2.0\n"
     ]
    }
   ],
   "source": [
    "#3. от 166 см до 190  см?\n",
    "X_1=166 \n",
    "X_2=190  \n",
    "print(f\" z1 = {Z(X_1,M)}\")\n",
    "print(f\" z2 = {Z(X_2,M)}\")\n"
   ]
  },
  {
   "cell_type": "code",
   "execution_count": 39,
   "metadata": {},
   "outputs": [
    {
     "name": "stdout",
     "output_type": "stream",
     "text": [
      "вероятность того, что случайным образом выбранный взрослый \n",
      " человек имеет рост от 166 см до 190  см:   0.8185899999999999\n"
     ]
    }
   ],
   "source": [
    "#вероятность по таблице при z1=-1 -> 0.15866\n",
    "#вероятность по таблице при z2=2 -> 0.97725\n",
    "P1=0.15866\n",
    "P2=0.97725\n",
    "P=P2-P1\n",
    "print(f\"вероятность того, что случайным образом выбранный взрослый \\n человек имеет рост от 166 см до 190  см:   {P}\")"
   ]
  },
  {
   "cell_type": "code",
   "execution_count": 40,
   "metadata": {},
   "outputs": [
    {
     "name": "stdout",
     "output_type": "stream",
     "text": [
      " z1 = -1.0\n",
      " z2 = 1.0\n"
     ]
    }
   ],
   "source": [
    "#4.от 166 см до 182 см?\n",
    "X_1=166 \n",
    "X_2=182  \n",
    "print(f\" z1 = {Z(X_1,M)}\")\n",
    "print(f\" z2 = {Z(X_2,M)}\")\n"
   ]
  },
  {
   "cell_type": "code",
   "execution_count": 41,
   "metadata": {},
   "outputs": [
    {
     "name": "stdout",
     "output_type": "stream",
     "text": [
      "вероятность того, что случайным образом выбранный взрослый \n",
      " человек имеет рост от 166 см до 182  см:   0.68268\n"
     ]
    }
   ],
   "source": [
    "#вероятность по таблице при z1=-1 -> 0.15866\n",
    "#вероятность по таблице при z2=1 -> 0.84134\n",
    "P1=0.15866\n",
    "P2=0.84134\n",
    "P=P2-P1\n",
    "print(f\"вероятность того, что случайным образом выбранный взрослый \\n человек имеет рост от 166 см до 182  см:   {P}\")"
   ]
  },
  {
   "cell_type": "code",
   "execution_count": 42,
   "metadata": {},
   "outputs": [
    {
     "name": "stdout",
     "output_type": "stream",
     "text": [
      " z1 = -2.0\n",
      " z2 = 2.0\n"
     ]
    }
   ],
   "source": [
    "#5.от 158 см до 190 см?\n",
    "X_1=158 \n",
    "X_2=190  \n",
    "print(f\" z1 = {Z(X_1,M)}\")\n",
    "print(f\" z2 = {Z(X_2,M)}\")\n"
   ]
  },
  {
   "cell_type": "code",
   "execution_count": 43,
   "metadata": {},
   "outputs": [
    {
     "name": "stdout",
     "output_type": "stream",
     "text": [
      "вероятность того, что случайным образом выбранный взрослый \n",
      " человек имеет рост от 158 см до 190  см:   0.9544999999999999\n"
     ]
    }
   ],
   "source": [
    "#вероятность по таблице при z1=-2 -> 0.02275\n",
    "#вероятность по таблице при z2=2 -> 0.97725\n",
    "P1=0.02275\n",
    "P2=0.97725\n",
    "P=P2-P1\n",
    "print(f\"вероятность того, что случайным образом выбранный взрослый \\n человек имеет рост от 158 см до 190  см:   {P}\")"
   ]
  },
  {
   "cell_type": "code",
   "execution_count": 44,
   "metadata": {},
   "outputs": [
    {
     "name": "stdout",
     "output_type": "stream",
     "text": [
      " z1 = -3.0\n",
      " z2 = 2.0\n"
     ]
    }
   ],
   "source": [
    "#6.не выше 150 см или не ниже 190 см?\n",
    "X_1=150 \n",
    "X_2=190  \n",
    "print(f\" z1 = {Z(X_1,M)}\")\n",
    "print(f\" z2 = {Z(X_2,M)}\")\n"
   ]
  },
  {
   "cell_type": "code",
   "execution_count": 45,
   "metadata": {},
   "outputs": [
    {
     "name": "stdout",
     "output_type": "stream",
     "text": [
      "вероятность того, что случайным образом выбранный взрослый \n",
      " человек имеет рост не выше 150 см или не ниже 190 см:   0.02410000000000005\n"
     ]
    }
   ],
   "source": [
    "#вероятность по таблице при z1=-3 -> 0.00135\n",
    "#вероятность по таблице при z2=2 -> 0.97725\n",
    "P1=0.00135\n",
    "P2=1-0.97725\n",
    "P=P2+P1\n",
    "print(f\"вероятность того, что случайным образом выбранный взрослый \\n человек имеет рост не выше 150 см или не ниже 190 см:   {P}\")"
   ]
  },
  {
   "cell_type": "code",
   "execution_count": 46,
   "metadata": {},
   "outputs": [
    {
     "name": "stdout",
     "output_type": "stream",
     "text": [
      " z1 = -3.0\n",
      " z2 = 3.0\n"
     ]
    }
   ],
   "source": [
    "#7.не выше 150 см или не ниже 198 см?\n",
    "X_1=150 \n",
    "X_2=198  \n",
    "print(f\" z1 = {Z(X_1,M)}\")\n",
    "print(f\" z2 = {Z(X_2,M)}\")"
   ]
  },
  {
   "cell_type": "code",
   "execution_count": 47,
   "metadata": {},
   "outputs": [
    {
     "name": "stdout",
     "output_type": "stream",
     "text": [
      "вероятность того, что случайным образом выбранный взрослый \n",
      " человек имеет рост не выше 150 см или не ниже 198 см?:   0.0026999999999999624\n"
     ]
    }
   ],
   "source": [
    "#вероятность по таблице при z1=-3 -> 0.00135\n",
    "#вероятность по таблице при z2=3 -> 0.99865\n",
    "P1=0.00135\n",
    "P2=1-0.99865\n",
    "P=P2+P1\n",
    "print(f\"вероятность того, что случайным образом выбранный взрослый \\n человек имеет рост не выше 150 см или не ниже 198 см?:   {P}\")"
   ]
  },
  {
   "cell_type": "code",
   "execution_count": 48,
   "metadata": {},
   "outputs": [
    {
     "name": "stdout",
     "output_type": "stream",
     "text": [
      " z1 = -1.0\n"
     ]
    }
   ],
   "source": [
    "#8. ниже 166 см?\n",
    "X_1=166 \n",
    "print(f\" z1 = {Z(X_1,M)}\")"
   ]
  },
  {
   "cell_type": "code",
   "execution_count": 49,
   "metadata": {},
   "outputs": [
    {
     "name": "stdout",
     "output_type": "stream",
     "text": [
      "вероятность того, что случайным образом выбранный взрослый \n",
      " человек имеет рост  ниже 166 см?:   0.15866\n"
     ]
    }
   ],
   "source": [
    "#вероятность по таблице при z1=-1 -> 0.15866\n",
    "P=0.15866\n",
    "print(f\"вероятность того, что случайным образом выбранный взрослый \\n человек имеет рост  ниже 166 см?:   {P}\")"
   ]
  }
 ],
 "metadata": {
  "kernelspec": {
   "display_name": "Python 3.11.0 64-bit",
   "language": "python",
   "name": "python3"
  },
  "language_info": {
   "codemirror_mode": {
    "name": "ipython",
    "version": 3
   },
   "file_extension": ".py",
   "mimetype": "text/x-python",
   "name": "python",
   "nbconvert_exporter": "python",
   "pygments_lexer": "ipython3",
   "version": "3.11.0"
  },
  "orig_nbformat": 4,
  "vscode": {
   "interpreter": {
    "hash": "702ffae81ee54834fab35e2ca8f0d783c2aeade926d5cbfa2c657f44bff6ce1c"
   }
  }
 },
 "nbformat": 4,
 "nbformat_minor": 2
}
