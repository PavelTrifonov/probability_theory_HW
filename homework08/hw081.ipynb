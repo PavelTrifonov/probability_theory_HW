{
 "cells": [
  {
   "cell_type": "markdown",
   "metadata": {},
   "source": [
    "Даны значения величины заработной платы заемщиков банка (zp) и значения их поведенческого кредитного скоринга (ks):\n",
    "zp = [35, 45, 190, 200, 40, 70, 54, 150, 120, 110],\n",
    "ks = [401, 574, 874, 919, 459, 739, 653, 902, 746, 832].\n",
    "Найдите ковариацию этих двух величин с помощью элементарных действий, а затем с помощью функции cov из numpy\n",
    "Полученные значения должны быть равны.\n",
    "Найдите коэффициент корреляции Пирсона с помощью ковариации и среднеквадратичных отклонений двух признаков, а затем с использованием функций из библиотек numpy и pandas."
   ]
  },
  {
   "cell_type": "code",
   "execution_count": 2,
   "metadata": {},
   "outputs": [
    {
     "name": "stdout",
     "output_type": "stream",
     "text": [
      "10175.377777777778\n",
      "9157.839999999997\n",
      "0.8874900920739162\n",
      "0.7987410828665242\n"
     ]
    }
   ],
   "source": [
    "zp = [35, 45, 190, 200, 40, 70, 54, 150, 120, 110]\n",
    "ks = [401, 574, 874, 919, 459, 739, 653, 902, 746, 832]\n",
    "Mzp = sum(zp)/len(zp) # 101.4\n",
    "Mks = sum(ks)/len(ks) # 709.9\n",
    "cov1 = sum((zp[i] - Mzp) * (ks[i] - Mks) for i in range(len(zp))) / (len(zp) -1) # если выборка\n",
    "cov2=sum(zp[i]*ks[i] for i in range(len(zp)))/len(zp)-Mzp*Mks\n",
    "std_zp = (sum((i - Mzp) ** 2 for i in zp) / (len(zp) - 1)) ** 0.5 \n",
    "std_ks = (sum((i - Mks) ** 2 for i in ks) / (len(ks) - 1)) ** 0.5 \n",
    "R1 = cov1 / (std_zp * std_ks) # 0.8875\n",
    "R2 = cov2 / (std_zp * std_ks) # 0.7987\n",
    "print(cov1) # 10175.38 для выборки\n",
    "print(cov2) # 9157.84 для генеральной совокупности\n",
    "print(R1) # 0.8875 для выборки\n",
    "print(R2) # 0.7987"
   ]
  },
  {
   "cell_type": "code",
   "execution_count": 3,
   "metadata": {},
   "outputs": [
    {
     "name": "stdout",
     "output_type": "stream",
     "text": [
      "10175.377777777776\n",
      "0.8874900920739162\n"
     ]
    }
   ],
   "source": [
    "import numpy as np\n",
    "import pandas as pd\n",
    "cov3 = np.cov(zp, ks, ddof=1)[0][1] # ddof=1 для использования несмещенной оценки среднеквадратичного отклонения\n",
    "R3 = np.corrcoef(zp, ks)[0][1]\n",
    "print(cov3) # 10175.38\n",
    "print(R3) # 0.8875\n",
    "\n"
   ]
  }
 ],
 "metadata": {
  "kernelspec": {
   "display_name": "Python 3.11.0 64-bit",
   "language": "python",
   "name": "python3"
  },
  "language_info": {
   "codemirror_mode": {
    "name": "ipython",
    "version": 3
   },
   "file_extension": ".py",
   "mimetype": "text/x-python",
   "name": "python",
   "nbconvert_exporter": "python",
   "pygments_lexer": "ipython3",
   "version": "3.11.0"
  },
  "orig_nbformat": 4,
  "vscode": {
   "interpreter": {
    "hash": "702ffae81ee54834fab35e2ca8f0d783c2aeade926d5cbfa2c657f44bff6ce1c"
   }
  }
 },
 "nbformat": 4,
 "nbformat_minor": 2
}
