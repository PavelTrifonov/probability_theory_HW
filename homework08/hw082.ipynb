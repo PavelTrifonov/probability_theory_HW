{
 "cells": [
  {
   "cell_type": "markdown",
   "metadata": {},
   "source": [
    "Измерены значения IQ выборки студентов,\n",
    "обучающихся в местных технических вузах:\n",
    "131, 125, 115, 122, 131, 115, 107, 99, 125, 111.\n",
    "Известно, что в генеральной совокупности IQ распределен нормально.\n",
    "Найдите доверительный интервал для математического ожидания с надежностью 0.95."
   ]
  },
  {
   "cell_type": "code",
   "execution_count": 3,
   "metadata": {},
   "outputs": [
    {
     "name": "stdout",
     "output_type": "stream",
     "text": [
      "истинное значение величины X лежит в  доверительном интервале (110.55660776308164 , 125.64339223691834)\n"
     ]
    }
   ],
   "source": [
    "IQ=[131, 125, 115, 122, 131, 115, 107, 99, 125, 111]\n",
    "P=0.95\n",
    "a=1-P\n",
    "n=len(IQ)\n",
    "M=sum(IQ)/n\n",
    "arr=[(i- M)**2 for i in IQ]\n",
    "std=((sum(arr)/(n-1))**0.5)\n",
    "Ta=2.262\n",
    "X1=M-Ta*(std/n**0.5)\n",
    "X2=M+Ta*(std/n**0.5)\n",
    "print(f\"истинное значение величины X лежит в  доверительном интервале ({X1} , {X2})\")"
   ]
  }
 ],
 "metadata": {
  "kernelspec": {
   "display_name": "Python 3.11.0 64-bit",
   "language": "python",
   "name": "python3"
  },
  "language_info": {
   "codemirror_mode": {
    "name": "ipython",
    "version": 3
   },
   "file_extension": ".py",
   "mimetype": "text/x-python",
   "name": "python",
   "nbconvert_exporter": "python",
   "pygments_lexer": "ipython3",
   "version": "3.11.0"
  },
  "orig_nbformat": 4,
  "vscode": {
   "interpreter": {
    "hash": "702ffae81ee54834fab35e2ca8f0d783c2aeade926d5cbfa2c657f44bff6ce1c"
   }
  }
 },
 "nbformat": 4,
 "nbformat_minor": 2
}
